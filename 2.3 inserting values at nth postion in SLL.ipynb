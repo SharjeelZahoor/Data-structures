{
  "cells": [
    {
      "cell_type": "markdown",
      "metadata": {
        "id": "view-in-github",
        "colab_type": "text"
      },
      "source": [
        "<a href=\"https://colab.research.google.com/github/SharjeelZahoor/DataStructures/blob/main/2.3%20inserting%20values%20at%20nth%20postion%20in%20SLL.ipynb\" target=\"_parent\"><img src=\"https://colab.research.google.com/assets/colab-badge.svg\" alt=\"Open In Colab\"/></a>"
      ]
    },
    {
      "cell_type": "markdown",
      "source": [
        "Inserting Value at nth position in singly linkedlist and print list after adding values"
      ],
      "metadata": {
        "id": "_h-K-24LGKab"
      }
    },
    {
      "cell_type": "code",
      "execution_count": 17,
      "metadata": {
        "colab": {
          "base_uri": "https://localhost:8080/"
        },
        "id": "v40rxncIBGs-",
        "outputId": "61d8c5a6-067a-40b3-bd89-c00b4caab3f1"
      },
      "outputs": [
        {
          "output_type": "execute_result",
          "data": {
            "text/plain": [
              "[10, 100, 20, 30, 200, 40, 50]"
            ]
          },
          "metadata": {},
          "execution_count": 17
        }
      ],
      "source": [
        "class Node:\n",
        "  def __init__(self, data):\n",
        "    self.data = data\n",
        "    self.next = None\n",
        "\n",
        "class LinkedList:\n",
        "  def __init__(self):\n",
        "    self.head = None\n",
        "  def insertAtEnd(self, new_data):\n",
        "      new_node = Node(new_data)\n",
        "      if self.head is None:\n",
        "        self.head = new_node\n",
        "        return\n",
        "      temp = self.head\n",
        "      while temp.next:\n",
        "        temp = temp.next\n",
        "      temp.next = new_node\n",
        "  #inserting values at nth position\n",
        "  def insertAtnth(self, new_data, n):\n",
        "    new_node = Node(new_data)\n",
        "    if n == 1:\n",
        "      new_node.next = self.head\n",
        "      self.head = new_node\n",
        "      return\n",
        "    temp = self.head\n",
        "    for i in range(1, n-1):\n",
        "      temp = temp.next\n",
        "    new_node.next = temp.next\n",
        "    temp.next = new_node\n",
        "\n",
        "  def printList(self):\n",
        "    list2=[]\n",
        "    temp = self.head\n",
        "    while temp:\n",
        "      list2.append(temp.data)\n",
        "      temp = temp.next\n",
        "    return list2\n",
        "\n",
        "l1 = LinkedList()\n",
        "# inserting values in linkedlist at end\n",
        "l1.insertAtEnd(10)\n",
        "l1.insertAtEnd(20)\n",
        "l1.insertAtEnd(30)\n",
        "l1.insertAtEnd(40)\n",
        "l1.insertAtEnd(50)\n",
        "l1.printList()\n",
        "# to add 100 at 2nd position and 200 at 5th position\n",
        "l1.insertAtnth(100, 2)\n",
        "l1.insertAtnth(200, 5)\n",
        "l1.printList()\n"
      ]
    }
  ],
  "metadata": {
    "colab": {
      "provenance": [],
      "authorship_tag": "ABX9TyMs3bEOx4vF4RiwIyu2mQDZ",
      "include_colab_link": true
    },
    "kernelspec": {
      "display_name": "Python 3",
      "name": "python3"
    },
    "language_info": {
      "name": "python"
    }
  },
  "nbformat": 4,
  "nbformat_minor": 0
}