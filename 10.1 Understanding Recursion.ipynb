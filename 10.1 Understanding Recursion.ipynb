{
  "cells": [
    {
      "cell_type": "markdown",
      "metadata": {
        "id": "view-in-github",
        "colab_type": "text"
      },
      "source": [
        "<a href=\"https://colab.research.google.com/github/SharjeelZahoor/DataStructures/blob/main/10.1%20Understanding%20Recursion.ipynb\" target=\"_parent\"><img src=\"https://colab.research.google.com/assets/colab-badge.svg\" alt=\"Open In Colab\"/></a>"
      ]
    },
    {
      "cell_type": "markdown",
      "source": [
        "**Understanding Recursion**\n",
        "\n",
        "Function calling itself is called recursion.\n",
        "\n"
      ],
      "metadata": {
        "id": "_h-K-24LGKab"
      }
    },
    {
      "cell_type": "code",
      "source": [
        "# print n natural number\n",
        "def natural_number(n):\n",
        "  if n > 0:\n",
        "    natural_number(n-1) # Recursive Function\n",
        "    print(n, end = \" \")\n",
        "\n",
        "n = int(input(\"Enter a number: \"))\n",
        "print(\"Natural numbers are : \")\n",
        "natural_number(n)\n"
      ],
      "metadata": {
        "id": "taMzJNQYdHgu",
        "outputId": "dfa9d993-fce6-420a-f793-fe23068c7809",
        "colab": {
          "base_uri": "https://localhost:8080/"
        }
      },
      "execution_count": null,
      "outputs": [
        {
          "output_type": "stream",
          "name": "stdout",
          "text": [
            "Enter a number: 10\n",
            "Natural numbers are : \n",
            "1 2 3 4 5 6 7 8 9 10 "
          ]
        }
      ]
    },
    {
      "cell_type": "code",
      "execution_count": null,
      "metadata": {
        "colab": {
          "base_uri": "https://localhost:8080/"
        },
        "id": "v40rxncIBGs-",
        "outputId": "bb600ed6-0507-4608-adf8-2263d48499af"
      },
      "outputs": [
        {
          "output_type": "stream",
          "name": "stdout",
          "text": [
            "Enter a number: 10\n",
            "Sum of  10 natural number is :  55\n"
          ]
        }
      ],
      "source": [
        "# print sum of n natural number\n",
        "def sum_natural_number(n):\n",
        "  if n==0:\n",
        "    return 0\n",
        "  else:\n",
        "    return n + sum_natural_number(n-1)# Recursive Function\n",
        "\n",
        "n = int(input(\"Enter a number: \"))\n",
        "print(\"Sum of \", n, \"natural number is : \", sum_natural_number(n))"
      ]
    },
    {
      "cell_type": "code",
      "source": [
        "# print n odd number\n",
        "def odd_number(n):\n",
        "  if n == 1:\n",
        "    return 1\n",
        "  else:\n",
        "    odd_number(n-1) # Recursive Function\n",
        "    print(2*n-1, end = \" \")\n",
        "\n",
        "n = int(input(\"Enter a number: \"))\n",
        "print(\"Odd numbers are : \")\n",
        "odd_number(n)"
      ],
      "metadata": {
        "id": "TH7FhIxmdCEy",
        "colab": {
          "base_uri": "https://localhost:8080/"
        },
        "outputId": "355d2e83-4b22-4cf2-f24d-2af773c2bb53"
      },
      "execution_count": null,
      "outputs": [
        {
          "output_type": "stream",
          "name": "stdout",
          "text": [
            "Enter a number: 10\n",
            "Odd numbers are : \n",
            "3 5 7 9 11 13 15 17 19 "
          ]
        }
      ]
    },
    {
      "cell_type": "code",
      "source": [
        "# print sum of n odd number\n",
        "def sum_odd_number(n):\n",
        "  if n == 1:\n",
        "    return 1\n",
        "  else:\n",
        "    return 2*n-1 + sum_odd_number(n-1) # Recursive Function\n",
        "\n",
        "n = int(input(\"Enter a number: \"))\n",
        "print(\"Sum of odd numbers is : \", sum_odd_number(10))\n"
      ],
      "metadata": {
        "colab": {
          "base_uri": "https://localhost:8080/"
        },
        "id": "MLEgkH6WfrF0",
        "outputId": "b1ab0b7b-cbf5-42b8-bb04-bc2f735eec59"
      },
      "execution_count": null,
      "outputs": [
        {
          "output_type": "stream",
          "name": "stdout",
          "text": [
            "Sum of odd numbers is :  100\n"
          ]
        }
      ]
    },
    {
      "cell_type": "code",
      "source": [
        "# print n even number\n",
        "def even_number(n):\n",
        "  if n == 0:\n",
        "    return 2\n",
        "  else:\n",
        "    even_number(n-1) # Recursive Function\n",
        "    print(2*n, end = \" \")\n",
        "\n",
        "n = int(input(\"Enter a number: \"))\n",
        "print(\"Even numbers are : \")\n",
        "even_number(n)"
      ],
      "metadata": {
        "colab": {
          "base_uri": "https://localhost:8080/"
        },
        "id": "b-XJg8iffG6S",
        "outputId": "da56a672-cdd6-4630-a843-ef35bfdef5be"
      },
      "execution_count": null,
      "outputs": [
        {
          "output_type": "stream",
          "name": "stdout",
          "text": [
            "Enter a number: 10\n",
            "Even numbers are : \n",
            "2 4 6 8 10 12 14 16 18 20 "
          ]
        }
      ]
    },
    {
      "cell_type": "code",
      "source": [
        "# print sum of n even number\n",
        "def sum_even_number(n):\n",
        "  if n == 1:\n",
        "    return 2\n",
        "  else:\n",
        "    return 2*n + sum_even_number(n-1) # Recursive Function\n",
        "\n",
        "\n",
        "print(\"Sum of even numbers is : \", sum_even_number(10))"
      ],
      "metadata": {
        "colab": {
          "base_uri": "https://localhost:8080/"
        },
        "id": "Sj3Zp35ZjcZT",
        "outputId": "0cc34fa6-d2c6-4f34-93a0-802d5fade0e4"
      },
      "execution_count": 3,
      "outputs": [
        {
          "output_type": "stream",
          "name": "stdout",
          "text": [
            "Sum of even numbers is :  110\n"
          ]
        }
      ]
    }
  ],
  "metadata": {
    "colab": {
      "provenance": [],
      "include_colab_link": true
    },
    "kernelspec": {
      "display_name": "Python 3",
      "name": "python3"
    },
    "language_info": {
      "name": "python"
    }
  },
  "nbformat": 4,
  "nbformat_minor": 0
}