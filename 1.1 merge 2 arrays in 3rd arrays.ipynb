{
  "cells": [
    {
      "cell_type": "markdown",
      "metadata": {
        "id": "view-in-github",
        "colab_type": "text"
      },
      "source": [
        "<a href=\"https://colab.research.google.com/github/SharjeelZahoor/DataStructures/blob/main/1.1%20merge%202%20arrays%20in%203rd%20arrays.ipynb\" target=\"_parent\"><img src=\"https://colab.research.google.com/assets/colab-badge.svg\" alt=\"Open In Colab\"/></a>"
      ]
    },
    {
      "cell_type": "markdown",
      "source": [
        "we have two sorted Arrays\n",
        "\n",
        "we have to ***append these two arrays in third array***.\n",
        "\n",
        "And we have to optimize solution and third array should also be sorted.\n"
      ],
      "metadata": {
        "id": "ArvDfUitSp2a"
      }
    },
    {
      "cell_type": "code",
      "execution_count": 3,
      "metadata": {
        "colab": {
          "base_uri": "https://localhost:8080/"
        },
        "id": "v40rxncIBGs-",
        "outputId": "20888ed1-b616-4ff8-c8d4-e6426298eb5d"
      },
      "outputs": [
        {
          "output_type": "stream",
          "name": "stdout",
          "text": [
            "[1, 2, 3, 4, 5, 6, 7, 9]\n"
          ]
        }
      ],
      "source": [
        "lst1 = [1,3,5,7,9]\n",
        "lst2 = [2, 4, 6]\n",
        "lst3 = []\n",
        "as1 = 0\n",
        "as2 = 0\n",
        "\n",
        "while as1 < len(lst1) and as2 < len(lst2):\n",
        "    if lst1[as1] > lst2[as2]:\n",
        "        lst3.append(lst2[as2])\n",
        "        as2 +=1\n",
        "    else:\n",
        "        lst3.append(lst1[as1])\n",
        "        as1 += 1\n",
        "\n",
        "while as1 < len(lst1):\n",
        "    lst3.append(lst1[as1])\n",
        "    as1 += 1\n",
        "while as2 < len(lst2):\n",
        "    lst3.append(lst2[as2])\n",
        "    as2 += 1\n",
        "\n",
        "print(lst3)"
      ]
    }
  ],
  "metadata": {
    "colab": {
      "provenance": [],
      "authorship_tag": "ABX9TyP0Gxqv+UDWbiTbQOsfwXZk",
      "include_colab_link": true
    },
    "kernelspec": {
      "display_name": "Python 3",
      "name": "python3"
    },
    "language_info": {
      "name": "python"
    }
  },
  "nbformat": 4,
  "nbformat_minor": 0
}