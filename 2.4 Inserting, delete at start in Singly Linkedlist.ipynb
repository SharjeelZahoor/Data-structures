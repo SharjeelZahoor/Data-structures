{
  "cells": [
    {
      "cell_type": "markdown",
      "metadata": {
        "id": "view-in-github",
        "colab_type": "text"
      },
      "source": [
        "<a href=\"https://colab.research.google.com/github/SharjeelZahoor/DataStructures/blob/main/2.4%20Inserting%2C%20delete%20at%20start%20in%20Singly%20Linkedlist.ipynb\" target=\"_parent\"><img src=\"https://colab.research.google.com/assets/colab-badge.svg\" alt=\"Open In Colab\"/></a>"
      ]
    },
    {
      "cell_type": "markdown",
      "source": [
        "***Building a Linked List from Scratch in Python 🚀***"
      ],
      "metadata": {
        "id": "xpSKD14m9PQY"
      }
    },
    {
      "cell_type": "code",
      "execution_count": 3,
      "metadata": {
        "colab": {
          "base_uri": "https://localhost:8080/"
        },
        "id": "v40rxncIBGs-",
        "outputId": "2430f16c-92a9-4afa-b2df-cf5f00fa9be8"
      },
      "outputs": [
        {
          "output_type": "stream",
          "name": "stdout",
          "text": [
            "Deleting first node :  50\n"
          ]
        },
        {
          "output_type": "execute_result",
          "data": {
            "text/plain": [
              "[40, 30, 20, 10]"
            ]
          },
          "metadata": {},
          "execution_count": 3
        }
      ],
      "source": [
        "class Node:\n",
        "  def __init__(self, data):\n",
        "    self.data = data\n",
        "    self.next = None\n",
        "\n",
        "class LinkedList:\n",
        "  def __init__(self):\n",
        "    self.head = None\n",
        "  def insertAtStart(self, data):\n",
        "    newNode = Node(data)\n",
        "    newNode.next = self.head\n",
        "    self.head = newNode\n",
        "\n",
        "  def printList(self):\n",
        "    list2=[]\n",
        "    temp = self.head\n",
        "    while temp:\n",
        "      list2.append(temp.data)\n",
        "      temp = temp.next\n",
        "    return list2\n",
        "\n",
        "  def deleteAtStart(self):\n",
        "    if self.head==None:\n",
        "      print(\"Linked list is empty\")\n",
        "    elif self.head.next==None:\n",
        "      print(\"Deleting first node : \", self.head.data)\n",
        "      self.head = None\n",
        "    else:\n",
        "      print(\"Deleting first node : \", self.head.data)\n",
        "      self.head = self.head.next\n",
        "\n",
        "l1 = LinkedList()\n",
        "l1.insertAtStart(10)\n",
        "l1.insertAtStart(20)\n",
        "l1.insertAtStart(30)\n",
        "l1.insertAtStart(40)\n",
        "l1.insertAtStart(50)\n",
        "l1.deleteAtStart()\n",
        "l1.printList()\n"
      ]
    },
    {
      "cell_type": "markdown",
      "source": [
        "Building a Linked List from Scratch in Python 🚀\n",
        "\n",
        "\n",
        "As part of my journey to master Data Structures, I created a simple Linked List implementation in Python. This exercise helped me solidify concepts like:\n",
        "\n",
        "Node creation\n",
        "\n",
        "Inserting elements at the start\n",
        "\n",
        "Deleting elements from the start\n",
        "\n",
        "Traversing the list\n",
        "\n",
        "By working on this project, I gained valuable insights into memory management, pointers, and how linked lists differ from arrays. The dynamic nature of linked lists allows for efficient memory usage when dealing with unknown or changing data sizes.\n",
        "\n"
      ],
      "metadata": {
        "id": "dJNS1xSh9U42"
      }
    }
  ],
  "metadata": {
    "colab": {
      "provenance": [],
      "authorship_tag": "ABX9TyMQkpPD6VLscBheeQ87c97E",
      "include_colab_link": true
    },
    "kernelspec": {
      "display_name": "Python 3",
      "name": "python3"
    },
    "language_info": {
      "name": "python"
    }
  },
  "nbformat": 4,
  "nbformat_minor": 0
}