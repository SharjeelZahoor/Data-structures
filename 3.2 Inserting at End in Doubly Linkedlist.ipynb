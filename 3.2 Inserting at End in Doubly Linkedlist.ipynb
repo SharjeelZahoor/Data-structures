{
  "cells": [
    {
      "cell_type": "markdown",
      "metadata": {
        "id": "view-in-github",
        "colab_type": "text"
      },
      "source": [
        "<a href=\"https://colab.research.google.com/github/SharjeelZahoor/DataStructures/blob/main/3.2%20Inserting%20at%20End%20in%20Doubly%20Linkedlist.ipynb\" target=\"_parent\"><img src=\"https://colab.research.google.com/assets/colab-badge.svg\" alt=\"Open In Colab\"/></a>"
      ]
    },
    {
      "cell_type": "markdown",
      "source": [
        "Inserting Value at End in Doubly linkedlist and print list after adding values"
      ],
      "metadata": {
        "id": "_h-K-24LGKab"
      }
    },
    {
      "cell_type": "code",
      "execution_count": 4,
      "metadata": {
        "colab": {
          "base_uri": "https://localhost:8080/"
        },
        "id": "v40rxncIBGs-",
        "outputId": "c4a04fdb-034b-423e-a184-1937abadbc5e"
      },
      "outputs": [
        {
          "output_type": "execute_result",
          "data": {
            "text/plain": [
              "[1, 2, 3, 4]"
            ]
          },
          "metadata": {},
          "execution_count": 4
        }
      ],
      "source": [
        "class Node:\n",
        "  def __init__(self, data):\n",
        "    self.data = data\n",
        "    self.prev = None\n",
        "    self.next = None\n",
        "\n",
        "class DoublyLinkedList:\n",
        "\n",
        "  def __init__(self):\n",
        "    self.head = None\n",
        "\n",
        "  def insertAtEnd(self, data):\n",
        "    newNode = Node(data)\n",
        "    if self.head is None:\n",
        "      self.head = newNode\n",
        "    else:\n",
        "      temp = self.head\n",
        "      while temp.next:\n",
        "        temp = temp.next\n",
        "      temp.next = newNode\n",
        "      newNode.prev = temp\n",
        "\n",
        "\n",
        "  def printList(self):\n",
        "    list2=[]\n",
        "    temp = self.head\n",
        "    while temp:\n",
        "      list2.append(temp.data)\n",
        "      temp = temp.next\n",
        "    return list2\n",
        "\n",
        "l1 = DoublyLinkedList()\n",
        "l1.insertAtEnd(1)\n",
        "l1.insertAtEnd(2)\n",
        "l1.insertAtEnd(3)\n",
        "l1.insertAtEnd(4)\n",
        "l1.printList()\n"
      ]
    }
  ],
  "metadata": {
    "colab": {
      "provenance": [],
      "authorship_tag": "ABX9TyMljnO30nVz5H7fwD32LpyN",
      "include_colab_link": true
    },
    "kernelspec": {
      "display_name": "Python 3",
      "name": "python3"
    },
    "language_info": {
      "name": "python"
    }
  },
  "nbformat": 4,
  "nbformat_minor": 0
}