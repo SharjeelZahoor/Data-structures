{
  "cells": [
    {
      "cell_type": "markdown",
      "metadata": {
        "id": "view-in-github",
        "colab_type": "text"
      },
      "source": [
        "<a href=\"https://colab.research.google.com/github/SharjeelZahoor/DataStructures/blob/main/8.2%20%20Double%20Ended%20Queue%20using%20Linkedlist.ipynb\" target=\"_parent\"><img src=\"https://colab.research.google.com/assets/colab-badge.svg\" alt=\"Open In Colab\"/></a>"
      ]
    },
    {
      "cell_type": "markdown",
      "source": [
        "**Double Ended Queue using LinkedList**"
      ],
      "metadata": {
        "id": "_h-K-24LGKab"
      }
    },
    {
      "cell_type": "code",
      "execution_count": 6,
      "metadata": {
        "colab": {
          "base_uri": "https://localhost:8080/"
        },
        "id": "v40rxncIBGs-",
        "outputId": "7c2d6200-9651-43cd-938d-b26bb0f69501"
      },
      "outputs": [
        {
          "output_type": "stream",
          "name": "stdout",
          "text": [
            "Added new Node: 10\n",
            "Added new Node: 20\n",
            "Added new Node: 30\n",
            "Added new Node: 40\n",
            "40 30 10 20 \n",
            "\n",
            "Removed Node: 20 -->\n",
            "40 30 10 \n",
            "\n",
            "Removed Node: <-- 40\n",
            "30 10 \n",
            "\n",
            "Front value in Queue is: 10\n",
            "Last value in Queue is: 30\n",
            "Number of Values in Queue are: 2\n"
          ]
        }
      ],
      "source": [
        "class Node:\n",
        "    def __init__(self, data):\n",
        "        self.data = data\n",
        "        self.prev = None\n",
        "        self.next = None\n",
        "\n",
        "class Queue:\n",
        "    def __init__(self):\n",
        "        self.front = None\n",
        "        self.rear = None\n",
        "        self.count = 0\n",
        "\n",
        "    def is_empty(self):\n",
        "        return self.front is None\n",
        "\n",
        "    def enqueueFront(self, data):\n",
        "        new_node = Node(data)\n",
        "        print(\"Added new Node:\", data)\n",
        "        if self.is_empty():\n",
        "            self.front = new_node\n",
        "            self.rear = new_node\n",
        "        else:\n",
        "            new_node.prev = self.front\n",
        "            self.front.next = new_node\n",
        "            self.front = new_node\n",
        "        self.count += 1\n",
        "\n",
        "    def enqueueRear(self, data):\n",
        "        new_node = Node(data)\n",
        "        print(\"Added new Node:\", data)\n",
        "        if self.is_empty():\n",
        "            self.front = new_node\n",
        "            self.rear = new_node\n",
        "        else:\n",
        "            new_node.next = self.rear\n",
        "            self.rear.prev = new_node\n",
        "            self.rear = new_node\n",
        "        self.count += 1\n",
        "\n",
        "    def dequeueFront(self):\n",
        "        if self.is_empty():\n",
        "            raise Exception(\"Queue is empty\")\n",
        "        elif self.front == self.rear:\n",
        "            print(\"Removed Node:\", self.front.data)\n",
        "            self.front = None\n",
        "            self.rear = None\n",
        "            self.count -= 1\n",
        "        else:\n",
        "            print(\"Removed Node:\", self.front.data, \"-->\")\n",
        "            self.front.prev.next = None\n",
        "            self.front = self.front.prev\n",
        "            self.count -= 1\n",
        "\n",
        "    def dequeueRear(self):\n",
        "        if self.is_empty():\n",
        "            raise Exception(\"Queue is empty\")\n",
        "        elif self.front == self.rear:\n",
        "            print(\"Removed Node:\", self.rear.data)\n",
        "            self.front = None\n",
        "            self.rear = None\n",
        "            self.count -= 1\n",
        "        else:\n",
        "            print(\"Removed Node:\", \"<--\", self.rear.data)\n",
        "            self.rear.next.prev = None\n",
        "            self.rear = self.rear.next\n",
        "            self.count -= 1\n",
        "\n",
        "    def get_front(self):\n",
        "        if not self.is_empty():\n",
        "            return self.front.data\n",
        "        else:\n",
        "            raise Exception(\"Queue is empty\")\n",
        "\n",
        "    def get_rear(self):\n",
        "        if not self.is_empty():\n",
        "            return self.rear.data\n",
        "        else:\n",
        "            raise Exception(\"Queue is empty\")\n",
        "\n",
        "    def print_queue(self):\n",
        "        if not self.is_empty():\n",
        "            temp = self.rear\n",
        "            while temp:\n",
        "                print(temp.data, end=\" \")\n",
        "                temp = temp.next\n",
        "        else:\n",
        "            raise Exception(\"Queue is empty\")\n",
        "        print(\"\\n\")\n",
        "\n",
        "    def size(self):\n",
        "        return self.count\n",
        "\n",
        "\n",
        "# Testing the Queue\n",
        "q1 = Queue()\n",
        "q1.enqueueFront(10)\n",
        "q1.enqueueFront(20)\n",
        "q1.enqueueRear(30)\n",
        "q1.enqueueRear(40)\n",
        "q1.print_queue()\n",
        "q1.dequeueFront()\n",
        "q1.print_queue()\n",
        "q1.dequeueRear()\n",
        "q1.print_queue()\n",
        "print(\"Front value in Queue is:\", q1.get_front())\n",
        "print(\"Last value in Queue is:\", q1.get_rear())\n",
        "print(\"Number of Values in Queue are:\", q1.size())\n"
      ]
    }
  ],
  "metadata": {
    "colab": {
      "provenance": [],
      "include_colab_link": true
    },
    "kernelspec": {
      "display_name": "Python 3",
      "name": "python3"
    },
    "language_info": {
      "name": "python"
    }
  },
  "nbformat": 4,
  "nbformat_minor": 0
}