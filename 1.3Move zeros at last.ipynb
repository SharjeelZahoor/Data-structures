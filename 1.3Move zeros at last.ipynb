{
  "cells": [
    {
      "cell_type": "markdown",
      "metadata": {
        "id": "view-in-github",
        "colab_type": "text"
      },
      "source": [
        "<a href=\"https://colab.research.google.com/github/SharjeelZahoor/DataStructures/blob/main/1.3Move%20zeros%20at%20last.ipynb\" target=\"_parent\"><img src=\"https://colab.research.google.com/assets/colab-badge.svg\" alt=\"Open In Colab\"/></a>"
      ]
    },
    {
      "cell_type": "markdown",
      "source": [
        "****Shift all zeros at Last of array****\n"
      ],
      "metadata": {
        "id": "ArvDfUitSp2a"
      }
    },
    {
      "cell_type": "code",
      "execution_count": 2,
      "metadata": {
        "colab": {
          "base_uri": "https://localhost:8080/"
        },
        "id": "v40rxncIBGs-",
        "outputId": "12a7f5bb-09bd-47eb-e433-27da655be860"
      },
      "outputs": [
        {
          "output_type": "stream",
          "name": "stdout",
          "text": [
            "Zeros at last :  [3, 4, 4, 9, 0, 0, 0, 0]\n"
          ]
        }
      ],
      "source": [
        "lst = [0,3,4,0,0,0,4,9]\n",
        "i = 0\n",
        "for j in range(1, len(lst)-1):\n",
        "    if lst[j] == 0:\n",
        "        j+=1\n",
        "    if lst[i] == 0:\n",
        "        if lst[j]>0:\n",
        "            lst[i], lst[j] = lst[j], lst[i]\n",
        "            j+=1\n",
        "            i+=1\n",
        "    if lst[i] != 0:\n",
        "        i+=1\n",
        "print(\"Zeros at last : \",lst)"
      ]
    }
  ],
  "metadata": {
    "colab": {
      "provenance": [],
      "authorship_tag": "ABX9TyO12ubftyvp5Lgn6JSSl8WH",
      "include_colab_link": true
    },
    "kernelspec": {
      "display_name": "Python 3",
      "name": "python3"
    },
    "language_info": {
      "name": "python"
    }
  },
  "nbformat": 4,
  "nbformat_minor": 0
}