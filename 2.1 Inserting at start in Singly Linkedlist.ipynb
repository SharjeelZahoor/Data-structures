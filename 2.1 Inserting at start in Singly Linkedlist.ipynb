{
  "cells": [
    {
      "cell_type": "markdown",
      "metadata": {
        "id": "view-in-github",
        "colab_type": "text"
      },
      "source": [
        "<a href=\"https://colab.research.google.com/github/SharjeelZahoor/DataStructures/blob/main/2.1%20Inserting%20at%20start%20in%20Singly%20Linkedlist.ipynb\" target=\"_parent\"><img src=\"https://colab.research.google.com/assets/colab-badge.svg\" alt=\"Open In Colab\"/></a>"
      ]
    },
    {
      "cell_type": "markdown",
      "source": [
        "Inserting Value at start in singly linkedlist and print list after adding values"
      ],
      "metadata": {
        "id": "_h-K-24LGKab"
      }
    },
    {
      "cell_type": "code",
      "execution_count": 8,
      "metadata": {
        "colab": {
          "base_uri": "https://localhost:8080/"
        },
        "id": "v40rxncIBGs-",
        "outputId": "161c33a2-cc26-4458-8dcc-ca1e0d3de50b"
      },
      "outputs": [
        {
          "output_type": "execute_result",
          "data": {
            "text/plain": [
              "[50, 40, 30, 20, 10]"
            ]
          },
          "metadata": {},
          "execution_count": 8
        }
      ],
      "source": [
        "class Node:\n",
        "  def __init__(self, data):\n",
        "    self.data = data\n",
        "    self.next = None\n",
        "\n",
        "class LinkedList:\n",
        "  def __init__(self):\n",
        "    self.head = None\n",
        "  def insertAtStart(self, data):\n",
        "    newNode = Node(data)\n",
        "    newNode.next = self.head\n",
        "    self.head = newNode\n",
        "\n",
        "  def printList(self):\n",
        "    list2=[]\n",
        "    temp = self.head\n",
        "    while temp:\n",
        "      list2.append(temp.data)\n",
        "      temp = temp.next\n",
        "    return list2\n",
        "\n",
        "l1 = LinkedList()\n",
        "l1.insertAtStart(10)\n",
        "l1.insertAtStart(20)\n",
        "l1.insertAtStart(30)\n",
        "l1.insertAtStart(40)\n",
        "l1.insertAtStart(50)\n",
        "l1.printList()\n"
      ]
    }
  ],
  "metadata": {
    "colab": {
      "provenance": [],
      "authorship_tag": "ABX9TyOfN7yKfVZ7M7NY5bQVvQKN",
      "include_colab_link": true
    },
    "kernelspec": {
      "display_name": "Python 3",
      "name": "python3"
    },
    "language_info": {
      "name": "python"
    }
  },
  "nbformat": 4,
  "nbformat_minor": 0
}