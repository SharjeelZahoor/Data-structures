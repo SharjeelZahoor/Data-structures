{
  "cells": [
    {
      "cell_type": "markdown",
      "metadata": {
        "id": "view-in-github",
        "colab_type": "text"
      },
      "source": [
        "<a href=\"https://colab.research.google.com/github/SharjeelZahoor/DataStructures/blob/main/7.2%20Queue%20using%20Linkedlist.ipynb\" target=\"_parent\"><img src=\"https://colab.research.google.com/assets/colab-badge.svg\" alt=\"Open In Colab\"/></a>"
      ]
    },
    {
      "cell_type": "markdown",
      "source": [
        "**Queue using LinkedList**"
      ],
      "metadata": {
        "id": "_h-K-24LGKab"
      }
    },
    {
      "cell_type": "code",
      "execution_count": 14,
      "metadata": {
        "colab": {
          "base_uri": "https://localhost:8080/"
        },
        "id": "v40rxncIBGs-",
        "outputId": "ae995892-da32-4c83-a208-ac809b95cd4a"
      },
      "outputs": [
        {
          "output_type": "stream",
          "name": "stdout",
          "text": [
            "40 --->  30 --->  20 --->  10 --->  \n",
            "\n",
            "deleted item is :  10 \n",
            "\n",
            "40 --->  30 --->  20 --->  \n",
            "\n",
            "Front value in Queue is :  20\n",
            "Last value in Queue is :  40\n",
            "Number of Values in Queue are : 3\n"
          ]
        }
      ],
      "source": [
        "class Node:\n",
        "  def __init__(self, data):\n",
        "    self.data = data\n",
        "    self.next = None\n",
        "\n",
        "class Queue:\n",
        "  def __init__(self):\n",
        "    self.front = None\n",
        "    self.rare = None\n",
        "    self.count = 0\n",
        "\n",
        "  def is_empty(self):\n",
        "    return self.front == None\n",
        "\n",
        "  def enqueue(self, data):\n",
        "    new_node = Node(data)\n",
        "    if self.is_empty():\n",
        "      self.front = new_node\n",
        "      self.rare = new_node\n",
        "    else:\n",
        "      new_node.next = self.rare\n",
        "      self.rare = new_node\n",
        "    self.count += 1\n",
        "\n",
        "  def dequeue(self):\n",
        "    if not self.is_empty():\n",
        "      temp = self.rare\n",
        "      while temp.next.next:\n",
        "        temp = temp.next\n",
        "      print(\"deleted item is : \", self.front.data,\"\\n\")\n",
        "      self.front = temp\n",
        "      temp.next = None\n",
        "      self.count -= 1\n",
        "    else:\n",
        "      raise Exception(\"Queue is empty\")\n",
        "\n",
        "  def get_front(self):\n",
        "    if not self.is_empty():\n",
        "      return self.front.data\n",
        "    else:\n",
        "      raise Exception(\"Queue is empty\")\n",
        "\n",
        "  def get_rare(self):\n",
        "    if not self.is_empty():\n",
        "      return self.rare.data\n",
        "    else:\n",
        "      raise Exception(\"Queue is empty\")\n",
        "\n",
        "  def print_queue(self):\n",
        "    if not self.is_empty():\n",
        "      temp = self.rare\n",
        "      while temp:\n",
        "        print(temp.data, end=\" --->  \")\n",
        "        temp = temp.next\n",
        "    else:\n",
        "      raise Exception(\"Queue is empty\")\n",
        "    print(\"\\n\")\n",
        "\n",
        "  def size(self):\n",
        "    return self.count\n",
        "q1 = Queue()\n",
        "q1.enqueue(10)\n",
        "q1.enqueue(20)\n",
        "q1.enqueue(30)\n",
        "q1.enqueue(40)\n",
        "q1.print_queue()\n",
        "q1.dequeue()\n",
        "q1.print_queue()\n",
        "print(\"Front value in Queue is : \", q1.get_front())\n",
        "print(\"Last value in Queue is : \", q1.get_rare())\n",
        "print(\"Number of Values in Queue are :\", q1.size())"
      ]
    }
  ],
  "metadata": {
    "colab": {
      "provenance": [],
      "include_colab_link": true
    },
    "kernelspec": {
      "display_name": "Python 3",
      "name": "python3"
    },
    "language_info": {
      "name": "python"
    }
  },
  "nbformat": 4,
  "nbformat_minor": 0
}