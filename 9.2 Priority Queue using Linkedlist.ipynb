{
  "cells": [
    {
      "cell_type": "markdown",
      "metadata": {
        "id": "view-in-github",
        "colab_type": "text"
      },
      "source": [
        "<a href=\"https://colab.research.google.com/github/SharjeelZahoor/DataStructures/blob/main/9.2%20Priority%20Queue%20using%20Linkedlist.ipynb\" target=\"_parent\"><img src=\"https://colab.research.google.com/assets/colab-badge.svg\" alt=\"Open In Colab\"/></a>"
      ]
    },
    {
      "cell_type": "markdown",
      "source": [
        "**Priority Queue using LinkedList**"
      ],
      "metadata": {
        "id": "_h-K-24LGKab"
      }
    },
    {
      "cell_type": "code",
      "execution_count": 19,
      "metadata": {
        "colab": {
          "base_uri": "https://localhost:8080/"
        },
        "id": "v40rxncIBGs-",
        "outputId": "4adca5ab-0180-4a72-c365-be8e4ae6ad5e"
      },
      "outputs": [
        {
          "output_type": "stream",
          "name": "stdout",
          "text": [
            "\n",
            "Smallest number has the highest priority\n",
            "\n",
            "(30, 2) --->  (20, 2) --->  (40, 1) --->  (10, 1) --->  \n",
            "\n",
            "Value pop up from Queue is :  (10, 1) \n",
            "\n",
            "(30, 2) --->  (20, 2) --->  (40, 1) --->  \n",
            "\n",
            "Front value in Queue is :  (40, 1)\n",
            "Rear value in Queue is :  (30, 2)\n",
            "Number of Values in Queue are : 3\n"
          ]
        }
      ],
      "source": [
        "class Node:\n",
        "    def __init__(self, data):\n",
        "        self.data = data\n",
        "        self.next = None\n",
        "        self.prev = None\n",
        "\n",
        "class Priority_Queue:\n",
        "    def __init__(self):\n",
        "        self.front = None\n",
        "        self.rear = None\n",
        "        self.count = 0\n",
        "\n",
        "    def is_empty(self):\n",
        "        return self.front is None\n",
        "\n",
        "    def enqueue(self, data, priority):\n",
        "        full_data = (data, priority)\n",
        "        new_node = Node(full_data)\n",
        "        if self.is_empty():\n",
        "            self.front = self.rear = new_node\n",
        "            self.count += 1\n",
        "        elif self.rear.data[1] <= priority:\n",
        "            new_node.next = self.rear\n",
        "            self.rear.prev = new_node\n",
        "            self.rear = new_node\n",
        "            self.count += 1\n",
        "        else:\n",
        "            temp = self.rear\n",
        "            while temp.next and temp.next.data[1] > full_data[1]:\n",
        "                temp = temp.next\n",
        "            new_node.prev = temp\n",
        "            new_node.next = temp.next\n",
        "            temp.next.prev = new_node\n",
        "            temp.next = new_node\n",
        "            self.count += 1\n",
        "\n",
        "    def dequeue(self):\n",
        "        if not self.is_empty():\n",
        "            print(\"Value pop up from Queue is : \", self.front.data, \"\\n\")\n",
        "            self.front.prev.next = None\n",
        "            self.front = self.front.prev\n",
        "            self.count -= 1\n",
        "        else:\n",
        "            raise Exception(\"Queue is empty\")\n",
        "\n",
        "    def get_front(self):\n",
        "        if not self.is_empty():\n",
        "            return self.front.data\n",
        "        else:\n",
        "            raise Exception(\"Queue is empty\")\n",
        "\n",
        "    def get_rear(self):\n",
        "        if not self.is_empty():\n",
        "            return self.rear.data\n",
        "        else:\n",
        "            raise Exception(\"Queue is empty\")\n",
        "\n",
        "    def print_queue(self):\n",
        "        if not self.is_empty():\n",
        "            temp = self.rear\n",
        "            while temp:\n",
        "                print(temp.data, end=\" --->  \")\n",
        "                temp = temp.next\n",
        "        else:\n",
        "            raise Exception(\"Queue is empty\")\n",
        "        print(\"\\n\")\n",
        "\n",
        "    def size(self):\n",
        "        return self.count\n",
        "\n",
        "# Testing the Priority Queue\n",
        "q1 = Priority_Queue()\n",
        "q1.enqueue(10, 1)\n",
        "q1.enqueue(20, 2)\n",
        "q1.enqueue(30, 2)\n",
        "q1.enqueue(40, 1)\n",
        "print(\"\\nSmallest number has the highest priority\\n\")\n",
        "q1.print_queue()\n",
        "q1.dequeue()\n",
        "q1.print_queue()\n",
        "print(\"Front value in Queue is : \", q1.get_front())\n",
        "print(\"Rear value in Queue is : \", q1.get_rear())\n",
        "print(\"Number of Values in Queue are :\", q1.size())\n"
      ]
    }
  ],
  "metadata": {
    "colab": {
      "provenance": [],
      "include_colab_link": true
    },
    "kernelspec": {
      "display_name": "Python 3",
      "name": "python3"
    },
    "language_info": {
      "name": "python"
    }
  },
  "nbformat": 4,
  "nbformat_minor": 0
}