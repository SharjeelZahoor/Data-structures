{
  "cells": [
    {
      "cell_type": "markdown",
      "metadata": {
        "id": "view-in-github",
        "colab_type": "text"
      },
      "source": [
        "<a href=\"https://colab.research.google.com/github/SharjeelZahoor/DataStructures/blob/main/1.4%20Replace%20zeros%20with%20second%20array%20elements.ipynb\" target=\"_parent\"><img src=\"https://colab.research.google.com/assets/colab-badge.svg\" alt=\"Open In Colab\"/></a>"
      ]
    },
    {
      "cell_type": "markdown",
      "source": [
        "**Replace Zeros of first array with second array elements**\n"
      ],
      "metadata": {
        "id": "ArvDfUitSp2a"
      }
    },
    {
      "cell_type": "code",
      "execution_count": 4,
      "metadata": {
        "colab": {
          "base_uri": "https://localhost:8080/"
        },
        "id": "v40rxncIBGs-",
        "outputId": "c185f994-34d1-4eaf-d0b7-4ef6256c37e9"
      },
      "outputs": [
        {
          "output_type": "stream",
          "name": "stdout",
          "text": [
            "Before replacing elements :  [1, 2, 3, 4, 0, 0, 0]\n",
            "After replacing elements :  [1, 2, 3, 4, 5, 6, 7]\n"
          ]
        }
      ],
      "source": [
        "lst1 = [1, 2, 3, 4, 0, 0, 0]\n",
        "lst2 = [5, 6, 7]\n",
        "i = 0\n",
        "print(\"Before replacing elements : \",lst1)\n",
        "for j in range(len(lst1)):\n",
        "    if lst1[j] == 0:\n",
        "        lst1[j] = lst2[i]\n",
        "        i+=1\n",
        "print(\"After replacing elements : \",lst1)"
      ]
    }
  ],
  "metadata": {
    "colab": {
      "provenance": [],
      "authorship_tag": "ABX9TyM7BHh9iFWUVLIf43eYu9gu",
      "include_colab_link": true
    },
    "kernelspec": {
      "display_name": "Python 3",
      "name": "python3"
    },
    "language_info": {
      "name": "python"
    }
  },
  "nbformat": 4,
  "nbformat_minor": 0
}