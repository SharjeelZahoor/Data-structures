{
  "cells": [
    {
      "cell_type": "markdown",
      "metadata": {
        "id": "view-in-github",
        "colab_type": "text"
      },
      "source": [
        "<a href=\"https://colab.research.google.com/github/SharjeelZahoor/DataStructures/blob/main/8.1%20Double%20Ended%20Queue%20using%20List.ipynb\" target=\"_parent\"><img src=\"https://colab.research.google.com/assets/colab-badge.svg\" alt=\"Open In Colab\"/></a>"
      ]
    },
    {
      "cell_type": "markdown",
      "source": [
        "**Double Ended Queue using List**"
      ],
      "metadata": {
        "id": "_h-K-24LGKab"
      }
    },
    {
      "cell_type": "code",
      "execution_count": 2,
      "metadata": {
        "colab": {
          "base_uri": "https://localhost:8080/"
        },
        "id": "v40rxncIBGs-",
        "outputId": "6f495ea4-2744-4084-8dea-ff7ec2aa5ce1"
      },
      "outputs": [
        {
          "output_type": "stream",
          "name": "stdout",
          "text": [
            "Pushed in Queue at front :  10\n",
            "Pushed in Queue at front :  20\n",
            "Pushed in Queue at rare :  30\n",
            "Pushed in Queue at rare :  40\n",
            "[40, 30, 10, 20]\n",
            "Value removed from Front of Queue is :  20\n",
            "Value removed from Rare of Queue is :  40\n",
            "[30, 10]\n",
            "Front value in Queue is :  10\n",
            "Last value in Queue is :  30\n",
            "Number of Values in Queue are : 2\n"
          ]
        }
      ],
      "source": [
        "class Double_Ended_Queue:\n",
        "  def __init__(self):\n",
        "    self.lst = []\n",
        "  def is_empty(self):\n",
        "    return len(self.lst) == 0\n",
        "\n",
        "  def enqueueFront(self, data):\n",
        "    print(\"Pushed in Queue at front : \", data)\n",
        "    self.lst.append(data)\n",
        "  def enqueueRare(self, data):\n",
        "    print(\"Pushed in Queue at rare : \", data)\n",
        "    self.lst.insert(0,data)\n",
        "\n",
        "  def dequeueFront(self):\n",
        "    if not self.is_empty():\n",
        "      print(\"Value removed from Front of Queue is : \", self.lst[-1])\n",
        "      self.lst.pop()\n",
        "    else:\n",
        "      raise \"Queue is empty\"\n",
        "  def dequeueRare(self):\n",
        "    if not self.is_empty():\n",
        "      print(\"Value removed from Rare of Queue is : \", self.lst[0])\n",
        "      self.lst.pop(0)\n",
        "    else:\n",
        "      raise \"Queue is empty\"\n",
        "\n",
        "  def get_front(self):\n",
        "    if not self.is_empty():\n",
        "      return self.lst[-1]\n",
        "    else:\n",
        "      raise \"Queue is empty\"\n",
        "  def get_rare(self):\n",
        "    if not self.is_empty():\n",
        "      return self.lst[0]\n",
        "    else:\n",
        "      raise \"Queue is empty\"\n",
        "\n",
        "  def print_queue(self):\n",
        "    print(self.lst)\n",
        "  def size(self):\n",
        "    return len(self.lst)\n",
        "\n",
        "q1 = Double_Ended_Queue()\n",
        "q1.enqueueFront(10)\n",
        "q1.enqueueFront(20)\n",
        "q1.enqueueRare(30)\n",
        "q1.enqueueRare(40)\n",
        "q1.print_queue()\n",
        "q1.dequeueFront()\n",
        "q1.dequeueRare()\n",
        "q1.print_queue()\n",
        "print(\"Front value in Queue is : \", q1.get_front())\n",
        "print(\"Last value in Queue is : \", q1.get_rare())\n",
        "print(\"Number of Values in Queue are :\", q1.size())"
      ]
    }
  ],
  "metadata": {
    "colab": {
      "provenance": [],
      "include_colab_link": true
    },
    "kernelspec": {
      "display_name": "Python 3",
      "name": "python3"
    },
    "language_info": {
      "name": "python"
    }
  },
  "nbformat": 4,
  "nbformat_minor": 0
}