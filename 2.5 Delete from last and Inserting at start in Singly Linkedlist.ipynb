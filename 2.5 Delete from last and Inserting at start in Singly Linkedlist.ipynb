{
  "cells": [
    {
      "cell_type": "markdown",
      "metadata": {
        "id": "view-in-github",
        "colab_type": "text"
      },
      "source": [
        "<a href=\"https://colab.research.google.com/github/SharjeelZahoor/DataStructures/blob/main/2.5%20Delete%20from%20last%20and%20Inserting%20at%20start%20in%20Singly%20Linkedlist.ipynb\" target=\"_parent\"><img src=\"https://colab.research.google.com/assets/colab-badge.svg\" alt=\"Open In Colab\"/></a>"
      ]
    },
    {
      "cell_type": "markdown",
      "source": [
        "***Building a Linked List from Scratch in Python 🚀***"
      ],
      "metadata": {
        "id": "xpSKD14m9PQY"
      }
    },
    {
      "cell_type": "code",
      "execution_count": 17,
      "metadata": {
        "colab": {
          "base_uri": "https://localhost:8080/"
        },
        "id": "v40rxncIBGs-",
        "outputId": "e1c787b9-afd4-46e7-860c-654ed6b6815c"
      },
      "outputs": [
        {
          "output_type": "stream",
          "name": "stdout",
          "text": [
            "Deleting last node :  10\n"
          ]
        },
        {
          "output_type": "execute_result",
          "data": {
            "text/plain": [
              "[40, 30, 20]"
            ]
          },
          "metadata": {},
          "execution_count": 17
        }
      ],
      "source": [
        "class Node:\n",
        "  def __init__(self, data):\n",
        "    self.data = data\n",
        "    self.next = None\n",
        "\n",
        "class LinkedList:\n",
        "  def __init__(self):\n",
        "    self.head = None\n",
        "  def insertAtStart(self, data):\n",
        "    newNode = Node(data)\n",
        "    newNode.next = self.head\n",
        "    self.head = newNode\n",
        "\n",
        "  def printList(self):\n",
        "    list2=[]\n",
        "    temp = self.head\n",
        "    while temp:\n",
        "      list2.append(temp.data)\n",
        "      temp = temp.next\n",
        "    return list2\n",
        "\n",
        "  def deleteAtEnd(self):\n",
        "    if self.head==None:\n",
        "      print(\"Linked list is empty\")\n",
        "    elif self.head.next==None:\n",
        "      print(\"Deleting last node : \", self.head.data)\n",
        "      self.head = None\n",
        "    else:\n",
        "\n",
        "      temp = self.head\n",
        "      while temp.next.next:\n",
        "        temp = temp.next\n",
        "      print(\"Deleting last node : \", temp.next.data)\n",
        "      temp.next = None\n",
        "\n",
        "l1 = LinkedList()\n",
        "l1.insertAtStart(10)\n",
        "l1.insertAtStart(20)\n",
        "l1.insertAtStart(30)\n",
        "l1.insertAtStart(40)\n",
        "l1.deleteAtEnd()\n",
        "l1.printList()\n"
      ]
    },
    {
      "cell_type": "markdown",
      "source": [
        "Building a Linked List from Scratch in Python 🚀\n",
        "\n",
        "\n",
        "As part of my journey to master Data Structures, I created a simple Linked List implementation in Python. This exercise helped me solidify concepts like:\n",
        "\n",
        "Node creation\n",
        "\n",
        "Inserting elements at the start\n",
        "\n",
        "Deleting elements from the End\n",
        "\n",
        "Traversing the list\n",
        "\n",
        "By working on this project, I gained valuable insights into memory management, pointers, and how linked lists differ from arrays. The dynamic nature of linked lists allows for efficient memory usage when dealing with unknown or changing data sizes.\n",
        "\n"
      ],
      "metadata": {
        "id": "dJNS1xSh9U42"
      }
    }
  ],
  "metadata": {
    "colab": {
      "provenance": [],
      "authorship_tag": "ABX9TyP19GpVqBsyBuvkm2GHZFr+",
      "include_colab_link": true
    },
    "kernelspec": {
      "display_name": "Python 3",
      "name": "python3"
    },
    "language_info": {
      "name": "python"
    }
  },
  "nbformat": 4,
  "nbformat_minor": 0
}