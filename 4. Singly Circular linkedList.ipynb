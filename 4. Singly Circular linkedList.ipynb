{
  "cells": [
    {
      "cell_type": "markdown",
      "metadata": {
        "id": "view-in-github",
        "colab_type": "text"
      },
      "source": [
        "<a href=\"https://colab.research.google.com/github/SharjeelZahoor/DataStructures/blob/main/4.%20Singly%20Circular%20linkedList.ipynb\" target=\"_parent\"><img src=\"https://colab.research.google.com/assets/colab-badge.svg\" alt=\"Open In Colab\"/></a>"
      ]
    },
    {
      "cell_type": "markdown",
      "source": [
        "**Singly Circular Linkedlist**\n",
        "\n",
        "Insert values at start\n",
        "\n",
        "Delete values from start\n",
        "\n",
        "Insert values at end\n",
        "\n",
        "Delete values from end\n",
        "\n",
        "Insert values at any index\n",
        "\n",
        "Delete values from any index\n",
        "\n",
        "printing list at each stage"
      ],
      "metadata": {
        "id": "_h-K-24LGKab"
      }
    },
    {
      "cell_type": "code",
      "execution_count": 25,
      "metadata": {
        "colab": {
          "base_uri": "https://localhost:8080/"
        },
        "id": "v40rxncIBGs-",
        "outputId": "2e8e41f4-b8ee-46bc-f34a-58d49eb10d64"
      },
      "outputs": [
        {
          "output_type": "stream",
          "name": "stdout",
          "text": [
            "40 30 20 10 \n",
            "deleted value from start :  40\n",
            "30 20 10 \n",
            "30 20 10 50 60 \n",
            "deleted value from end :  60\n",
            "30 20 10 50 \n",
            "80 30 20 10 70 50 \n",
            "deleted value from index  3  :  10\n",
            "80 30 20 70 50 \n"
          ]
        }
      ],
      "source": [
        "# Creation of node and initializing list\n",
        "class Node:\n",
        "    def __init__(self,data):\n",
        "        self.data=data\n",
        "        self.next=None\n",
        "class circularSinglyLinkedlist:\n",
        "    def __init__(self):\n",
        "        self.head=None\n",
        "\n",
        "# insertion and deletion at start circular SLL\n",
        "    def insertStart(self,data):\n",
        "        if self.head is None:\n",
        "            self.head=Node(data)\n",
        "            self.head.next=self.head\n",
        "        else:\n",
        "            new_node=Node(data)\n",
        "            temp=self.head\n",
        "            while temp.next != self.head:\n",
        "                temp=temp.next\n",
        "            new_node.next=self.head\n",
        "            temp.next=new_node\n",
        "            self.head=new_node\n",
        "\n",
        "    def deleteStart(self):\n",
        "        if self.head is None:\n",
        "            print(\"List is empty\")\n",
        "            return\n",
        "        elif self.head.next is self.head:\n",
        "            print(\"deleted value from start : \", self.head.data)\n",
        "            self.head=None\n",
        "        else:\n",
        "            temp=self.head\n",
        "            while temp.next != self.head:\n",
        "                temp=temp.next\n",
        "            print(\"deleted value from start : \", self.head.data)\n",
        "            temp.next=self.head.next\n",
        "            self.head=self.head.next\n",
        "\n",
        "# insertion and deletion from end in circular linked list\n",
        "    def insertEnd(self,data):\n",
        "        if self.head is None:\n",
        "            self.head=Node(data)\n",
        "            self.head.next=self.head\n",
        "        else:\n",
        "            new_node=Node(data)\n",
        "            temp=self.head\n",
        "            while temp.next is not self.head:\n",
        "                temp=temp.next\n",
        "            temp.next=new_node\n",
        "            new_node.next=self.head\n",
        "\n",
        "    def deleteEnd(self):\n",
        "        if self.head is None:\n",
        "            print(\"List is empty\")\n",
        "            return\n",
        "        elif self.head.next is self.head:\n",
        "            print(\"deleted value from end : \", self.head.data)\n",
        "            self.head=None\n",
        "        else:\n",
        "            temp=self.head\n",
        "            while temp.next.next != self.head:\n",
        "                temp=temp.next\n",
        "            print(\"deleted value from end : \", temp.next.data)\n",
        "            temp.next=self.head\n",
        "            self.head=temp.next\n",
        "\n",
        "#insertion at deletion at nth position\n",
        "    def insertAtIndex(self,data,index):\n",
        "        if index==0:\n",
        "            self.insertStart(data)\n",
        "        else:\n",
        "            new_node=Node(data)\n",
        "            temp=self.head\n",
        "            for i in range(index-1):\n",
        "                temp=temp.next\n",
        "            new_node.next=temp.next\n",
        "            temp.next=new_node\n",
        "    def deleteAtIndex(self,index):\n",
        "        if index==0:\n",
        "            self.deleteStart()\n",
        "        else:\n",
        "            temp=self.head\n",
        "            for i in range(index-1):\n",
        "                temp=temp.next\n",
        "            print(\"deleted value from index \", index, \" : \", temp.next.data)\n",
        "            temp.next=temp.next.next\n",
        "\n",
        "# printing the list\n",
        "    def printList(self):\n",
        "        temp=self.head\n",
        "        while temp:\n",
        "            print(temp.data,end=\" \")\n",
        "            temp=temp.next\n",
        "            if temp==self.head:\n",
        "                break\n",
        "        print()\n",
        "\n",
        "l1=circularSinglyLinkedlist()\n",
        "l1.insertStart(10)\n",
        "l1.insertStart(20)\n",
        "l1.insertStart(30)\n",
        "l1.insertStart(40)\n",
        "l1.printList()\n",
        "l1.deleteStart()\n",
        "l1.printList()\n",
        "l1.insertEnd(50)\n",
        "l1.insertEnd(60)\n",
        "l1.printList()\n",
        "l1.deleteEnd()\n",
        "l1.printList()\n",
        "l1.insertAtIndex(70,3)\n",
        "l1.insertAtIndex(80,0)\n",
        "l1.printList()\n",
        "l1.deleteAtIndex(3)\n",
        "l1.printList()\n"
      ]
    }
  ],
  "metadata": {
    "colab": {
      "provenance": [],
      "include_colab_link": true
    },
    "kernelspec": {
      "display_name": "Python 3",
      "name": "python3"
    },
    "language_info": {
      "name": "python"
    }
  },
  "nbformat": 4,
  "nbformat_minor": 0
}