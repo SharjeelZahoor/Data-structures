{
  "cells": [
    {
      "cell_type": "markdown",
      "metadata": {
        "id": "view-in-github",
        "colab_type": "text"
      },
      "source": [
        "<a href=\"https://colab.research.google.com/github/SharjeelZahoor/DataStructures/blob/main/6.2%20Stack%20using%20linkedList.ipynb\" target=\"_parent\"><img src=\"https://colab.research.google.com/assets/colab-badge.svg\" alt=\"Open In Colab\"/></a>"
      ]
    },
    {
      "cell_type": "markdown",
      "source": [
        "**Stack using Linkedlist**"
      ],
      "metadata": {
        "id": "_h-K-24LGKab"
      }
    },
    {
      "cell_type": "code",
      "execution_count": null,
      "metadata": {
        "colab": {
          "base_uri": "https://localhost:8080/"
        },
        "id": "v40rxncIBGs-",
        "outputId": "c65ca56b-dd43-47b4-87f1-ca58357de064"
      },
      "outputs": [
        {
          "output_type": "stream",
          "name": "stdout",
          "text": [
            "Current Stack Values are [40, 30, 20, 10]\n",
            "Peak value is :  40\n",
            "Current Stack Values are [40, 30, 20, 10]\n",
            "Deleted Value is  40\n",
            "Current Stack Values are [30, 20, 10]\n",
            "Stack has  3  Elements.\n"
          ]
        }
      ],
      "source": [
        "# node class that will be used for creating node\n",
        "\n",
        "class Node:\n",
        "  def __init__(self, data):\n",
        "    self.data = data\n",
        "    self.next = None\n",
        "\n",
        "class SinglyLinkedList:\n",
        "  def __init__(self):\n",
        "    self.head = None\n",
        "    self.count = 0\n",
        "\n",
        "# Insertion At Start\n",
        "  def insertAtStart(self, new_data):\n",
        "    new_Node = Node(new_data)\n",
        "    if self.head == None:\n",
        "      self.head = new_Node\n",
        "    else:\n",
        "      new_Node.next = self.head\n",
        "      self.head = new_Node\n",
        "    self.count+=1\n",
        "\n",
        "# Deletion from Start\n",
        "  def deleteFromStart(self):\n",
        "    if self.head == None:\n",
        "      return \"Empty Stack\"\n",
        "    elif self.head.next is None:\n",
        "      self.count-=1\n",
        "      print(\"Deleted Value is \", self.head.data)\n",
        "      self.head = None\n",
        "    else:\n",
        "      self.count-=1\n",
        "      print(\"Deleted Value is \", self.head.data)\n",
        "      self.head = self.head.next\n",
        "\n",
        "\n",
        "  def printLinkedList(self):\n",
        "    lst = []\n",
        "    temp = self.head\n",
        "    while temp:\n",
        "      lst.append(temp.data)\n",
        "      temp = temp.next\n",
        "    print(\"Current Stack Values are\",lst)\n",
        "\n",
        "# I inherit SinglyLinkedList in Stack to use its methods\n",
        "# and use super() keyword to do so\n",
        "\n",
        "class Stack(SinglyLinkedList):\n",
        "  def __init__(self):\n",
        "    super().__init__()\n",
        "\n",
        "  def push(self, data):\n",
        "    self.insertAtStart(data)\n",
        "  def pop(self):\n",
        "    self.deleteFromStart()\n",
        "  def printList(self):\n",
        "    self.printLinkedList()\n",
        "  def peak(self):\n",
        "    return self.head.data\n",
        "  def size(self):\n",
        "     return self.count\n",
        "\n",
        "\n",
        "\n",
        "stack1 = Stack()\n",
        "stack1.push(10)\n",
        "stack1.push(20)\n",
        "stack1.push(30)\n",
        "stack1.push(40)\n",
        "stack1.printList()\n",
        "print(\"Peak value is : \",stack1.peak())\n",
        "stack1.printList()\n",
        "stack1.pop()\n",
        "stack1.printList()\n",
        "print(\"Stack has \",stack1.size(), \" Elements.\")"
      ]
    }
  ],
  "metadata": {
    "colab": {
      "provenance": [],
      "include_colab_link": true
    },
    "kernelspec": {
      "display_name": "Python 3",
      "name": "python3"
    },
    "language_info": {
      "name": "python"
    }
  },
  "nbformat": 4,
  "nbformat_minor": 0
}