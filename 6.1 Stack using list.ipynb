{
  "cells": [
    {
      "cell_type": "markdown",
      "metadata": {
        "id": "view-in-github",
        "colab_type": "text"
      },
      "source": [
        "<a href=\"https://colab.research.google.com/github/SharjeelZahoor/DataStructures/blob/main/6.1%20Stack%20using%20list.ipynb\" target=\"_parent\"><img src=\"https://colab.research.google.com/assets/colab-badge.svg\" alt=\"Open In Colab\"/></a>"
      ]
    },
    {
      "cell_type": "markdown",
      "source": [
        "**Stack using List**"
      ],
      "metadata": {
        "id": "_h-K-24LGKab"
      }
    },
    {
      "cell_type": "code",
      "execution_count": 14,
      "metadata": {
        "colab": {
          "base_uri": "https://localhost:8080/"
        },
        "id": "v40rxncIBGs-",
        "outputId": "88f45c1c-5ede-4456-c669-a3bcd7ed8f12"
      },
      "outputs": [
        {
          "output_type": "stream",
          "name": "stdout",
          "text": [
            "Current stack values are :  [10, 20, 30, 40]\n",
            "Peak value is  40\n",
            "Pop up  40\n",
            "Current stack values are :  [10, 20, 30]\n",
            "Items in the stack are :  3\n"
          ]
        }
      ],
      "source": [
        "class Stack:\n",
        "  def __init__(self):\n",
        "    self.lst = []\n",
        "\n",
        "  def is_empty(self):\n",
        "    return len(self.lst) == 0\n",
        "\n",
        "  def printList(self):\n",
        "    print(\"Current stack values are : \",self.lst)\n",
        "\n",
        "  def push(self,item):\n",
        "    self.lst.append(item)\n",
        "  def pop(self):\n",
        "    if self.is_empty():\n",
        "      return IndexError(\"Stack is empty\")\n",
        "    print(\"Pop up \", self.lst.pop())\n",
        "\n",
        "  def peek(self):\n",
        "    if self.is_empty():\n",
        "      return IndexError(\"Stack is empty\")\n",
        "    print(\"Peak value is \", self.lst[-1])\n",
        "\n",
        "  def size(self):\n",
        "    print(\"Items in the stack are : \",len(self.lst))\n",
        "\n",
        "stack1 = Stack()\n",
        "stack1.push(10)\n",
        "stack1.push(20)\n",
        "stack1.push(30)\n",
        "stack1.push(40)\n",
        "stack1.printList()\n",
        "stack1.peek()\n",
        "stack1.pop()\n",
        "stack1.printList()\n",
        "stack1.size()"
      ]
    }
  ],
  "metadata": {
    "colab": {
      "provenance": [],
      "include_colab_link": true
    },
    "kernelspec": {
      "display_name": "Python 3",
      "name": "python3"
    },
    "language_info": {
      "name": "python"
    }
  },
  "nbformat": 4,
  "nbformat_minor": 0
}