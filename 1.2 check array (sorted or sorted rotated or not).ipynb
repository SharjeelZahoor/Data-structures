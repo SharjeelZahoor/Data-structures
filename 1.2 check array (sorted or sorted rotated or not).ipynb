{
  "cells": [
    {
      "cell_type": "markdown",
      "metadata": {
        "id": "view-in-github",
        "colab_type": "text"
      },
      "source": [
        "<a href=\"https://colab.research.google.com/github/SharjeelZahoor/DataStructures/blob/main/1.2%20check%20array%20(sorted%20or%20sorted%20rotated%20or%20not).ipynb\" target=\"_parent\"><img src=\"https://colab.research.google.com/assets/colab-badge.svg\" alt=\"Open In Colab\"/></a>"
      ]
    },
    {
      "cell_type": "markdown",
      "source": [
        "Check array is **sorted** then ****TRUE****    __OR\n",
        "\n",
        "array is **sorted rotated** then ****TRUE****\n",
        "\n",
        "otherwise return ****FALSE****.\n",
        "\n"
      ],
      "metadata": {
        "id": "ArvDfUitSp2a"
      }
    },
    {
      "cell_type": "code",
      "execution_count": 5,
      "metadata": {
        "colab": {
          "base_uri": "https://localhost:8080/"
        },
        "id": "v40rxncIBGs-",
        "outputId": "1e8d1926-497e-446e-96ea-c20b9f312028"
      },
      "outputs": [
        {
          "output_type": "stream",
          "name": "stdout",
          "text": [
            "True\n",
            "True\n",
            "True\n",
            "False\n"
          ]
        }
      ],
      "source": [
        "def checkRS(lst,n):\n",
        "    count = 0\n",
        "    ans = False\n",
        "    for i in range(0,n-1):\n",
        "        if lst[i] > lst[i+1]:\n",
        "            count+=1\n",
        "\n",
        "    if lst[n-1] > lst[0]:\n",
        "        count+=1\n",
        "\n",
        "    if count <=1:\n",
        "        ans = True\n",
        "\n",
        "    return ans\n",
        "\n",
        "\n",
        "lst1 = [1,2,3,4,5]\n",
        "n = len(lst1)\n",
        "print(checkRS(lst1,n))\n",
        "\n",
        "lst2 = [3,4,5,1,2]\n",
        "m = len(lst2)\n",
        "print(checkRS(lst2,m))\n",
        "\n",
        "lst3 = [1,1,1,1,1]\n",
        "o = len(lst3)\n",
        "print(checkRS(lst3,o))\n",
        "\n",
        "lst4 = [1,2,5,2,6,4,7,9,4]\n",
        "p = len(lst4)\n",
        "print(checkRS(lst4,p))\n",
        "\n"
      ]
    }
  ],
  "metadata": {
    "colab": {
      "provenance": [],
      "authorship_tag": "ABX9TyNvVHQrxGq0ubld0850149t",
      "include_colab_link": true
    },
    "kernelspec": {
      "display_name": "Python 3",
      "name": "python3"
    },
    "language_info": {
      "name": "python"
    }
  },
  "nbformat": 4,
  "nbformat_minor": 0
}