{
  "cells": [
    {
      "cell_type": "markdown",
      "metadata": {
        "id": "view-in-github",
        "colab_type": "text"
      },
      "source": [
        "<a href=\"https://colab.research.google.com/github/SharjeelZahoor/DataStructures/blob/main/1.5%20Rotate%20array%20by%20k%20elements.ipynb\" target=\"_parent\"><img src=\"https://colab.research.google.com/assets/colab-badge.svg\" alt=\"Open In Colab\"/></a>"
      ]
    },
    {
      "cell_type": "markdown",
      "source": [
        "**Rotate array by k elements elements**\n"
      ],
      "metadata": {
        "id": "ArvDfUitSp2a"
      }
    },
    {
      "cell_type": "code",
      "execution_count": 5,
      "metadata": {
        "colab": {
          "base_uri": "https://localhost:8080/"
        },
        "id": "v40rxncIBGs-",
        "outputId": "d290fe8e-0a50-42d0-bf8d-41fa8bddaea4"
      },
      "outputs": [
        {
          "output_type": "stream",
          "name": "stdout",
          "text": [
            "List before rotation is  [1, 3, 5, 7, 9]\n",
            "List after rotation is  [5, 7, 9, 1, 3]\n"
          ]
        }
      ],
      "source": [
        "# rotate an array by k number\n",
        "lst = [1,3,5,7,9]\n",
        "print(\"List before rotation is \", lst)\n",
        "k = 3\n",
        "n = len(lst)\n",
        "ans = [None]*n\n",
        "for i in range(n):\n",
        "    ans[ (i + k ) % n ] = lst[i]\n",
        "print(\"List after rotation is \",ans)"
      ]
    }
  ],
  "metadata": {
    "colab": {
      "provenance": [],
      "authorship_tag": "ABX9TyNCAzY3JMq11IcP6/t9zbwx",
      "include_colab_link": true
    },
    "kernelspec": {
      "display_name": "Python 3",
      "name": "python3"
    },
    "language_info": {
      "name": "python"
    }
  },
  "nbformat": 4,
  "nbformat_minor": 0
}