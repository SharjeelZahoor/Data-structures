{
  "cells": [
    {
      "cell_type": "markdown",
      "metadata": {
        "id": "view-in-github",
        "colab_type": "text"
      },
      "source": [
        "<a href=\"https://colab.research.google.com/github/SharjeelZahoor/DataStructures/blob/main/3.3%20Inserting%20at%20nth%20Position%20in%20Singly%20Linkedlist.ipynb\" target=\"_parent\"><img src=\"https://colab.research.google.com/assets/colab-badge.svg\" alt=\"Open In Colab\"/></a>"
      ]
    },
    {
      "cell_type": "markdown",
      "source": [
        "Inserting Values at nth Position in Doubly linkedlist and print list after adding values"
      ],
      "metadata": {
        "id": "_h-K-24LGKab"
      }
    },
    {
      "cell_type": "code",
      "execution_count": 8,
      "metadata": {
        "colab": {
          "base_uri": "https://localhost:8080/"
        },
        "id": "v40rxncIBGs-",
        "outputId": "d2ef0fad-888d-4179-a834-3578beac2728"
      },
      "outputs": [
        {
          "output_type": "execute_result",
          "data": {
            "text/plain": [
              "[1, 2, 100, 3, 4]"
            ]
          },
          "metadata": {},
          "execution_count": 8
        }
      ],
      "source": [
        "class Node:\n",
        "  def __init__(self, data):\n",
        "    self.data = data\n",
        "    self.prev = None\n",
        "    self.next = None\n",
        "\n",
        "class DoublyLinkedList:\n",
        "\n",
        "  def __init__(self):\n",
        "    self.head = None\n",
        "\n",
        "  def insertAtEnd(self, data):\n",
        "    newNode = Node(data)\n",
        "    if self.head is None:\n",
        "      self.head = newNode\n",
        "    else:\n",
        "      temp = self.head\n",
        "      while temp.next:\n",
        "        temp = temp.next\n",
        "      temp.next = newNode\n",
        "      newNode.prev = temp\n",
        "\n",
        "  def insertAtnth(self, data, n):\n",
        "    newNode = Node(data)\n",
        "    if n == 1:\n",
        "      newNode.next = self.head\n",
        "      self.head.prev = newNode\n",
        "      self.head = newNode\n",
        "    else:\n",
        "      temp = self.head\n",
        "      for i in range(1, n-1):\n",
        "        temp = temp.next\n",
        "      newNode.next = temp.next\n",
        "      newNode.prev = temp\n",
        "      temp.next = newNode\n",
        "\n",
        "\n",
        "  def printList(self):\n",
        "    list2=[]\n",
        "    temp = self.head\n",
        "    while temp:\n",
        "      list2.append(temp.data)\n",
        "      temp = temp.next\n",
        "    return list2\n",
        "\n",
        "l1 = DoublyLinkedList()\n",
        "l1.insertAtEnd(1)\n",
        "l1.insertAtEnd(2)\n",
        "l1.insertAtEnd(3)\n",
        "l1.insertAtEnd(4)\n",
        "l1.insertAtnth(100,3)\n",
        "l1.printList()\n"
      ]
    }
  ],
  "metadata": {
    "colab": {
      "provenance": [],
      "authorship_tag": "ABX9TyMHwfRYgGn6iR7882ODclXV",
      "include_colab_link": true
    },
    "kernelspec": {
      "display_name": "Python 3",
      "name": "python3"
    },
    "language_info": {
      "name": "python"
    }
  },
  "nbformat": 4,
  "nbformat_minor": 0
}
