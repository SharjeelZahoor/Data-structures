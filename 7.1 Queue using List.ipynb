{
  "cells": [
    {
      "cell_type": "markdown",
      "metadata": {
        "id": "view-in-github",
        "colab_type": "text"
      },
      "source": [
        "<a href=\"https://colab.research.google.com/github/SharjeelZahoor/DataStructures/blob/main/7.1%20Queue%20using%20List.ipynb\" target=\"_parent\"><img src=\"https://colab.research.google.com/assets/colab-badge.svg\" alt=\"Open In Colab\"/></a>"
      ]
    },
    {
      "cell_type": "markdown",
      "source": [
        "**Queue using List**"
      ],
      "metadata": {
        "id": "_h-K-24LGKab"
      }
    },
    {
      "cell_type": "code",
      "execution_count": null,
      "metadata": {
        "colab": {
          "base_uri": "https://localhost:8080/"
        },
        "id": "v40rxncIBGs-",
        "outputId": "4c76e21e-9826-4e75-d009-772a90f9c53d"
      },
      "outputs": [
        {
          "output_type": "stream",
          "name": "stdout",
          "text": [
            "Pushed in Queue :  10\n",
            "Pushed in Queue :  20\n",
            "Pushed in Queue :  30\n",
            "Pushed in Queue :  40\n",
            "[40, 30, 20, 10]\n",
            "Value removed from Queue is :  10\n",
            "[40, 30, 20]\n",
            "Front value in Queue is :  20\n",
            "Last value in Queue is :  40\n",
            "Number of Values in Queue are : 3\n"
          ]
        }
      ],
      "source": [
        "class Queue:\n",
        "  def __init__(self):\n",
        "    self.lst = []\n",
        "  def is_empty(self):\n",
        "    return len(self.lst) == 0\n",
        "  def enqueue(self, data):\n",
        "    print(\"Pushed in Queue : \", data)\n",
        "    self.lst.insert(0,data)\n",
        "  def dequeue(self):\n",
        "    if not self.is_empty():\n",
        "      print(\"Value removed from Queue is : \", self.lst[-1])\n",
        "      self.lst.pop()\n",
        "    else:\n",
        "      raise \"Queue is empty\"\n",
        "  def get_front(self):\n",
        "    if not self.is_empty():\n",
        "      return self.lst[-1]\n",
        "    else:\n",
        "      raise \"Queue is empty\"\n",
        "  def get_rare(self):\n",
        "    if not self.is_empty():\n",
        "      return self.lst[0]\n",
        "    else:\n",
        "      raise \"Queue is empty\"\n",
        "\n",
        "  def print_queue(self):\n",
        "    print(self.lst)\n",
        "  def size(self):\n",
        "    return len(self.lst)\n",
        "q1 = Queue()\n",
        "q1.enqueue(10)\n",
        "q1.enqueue(20)\n",
        "q1.enqueue(30)\n",
        "q1.enqueue(40)\n",
        "q1.print_queue()\n",
        "q1.dequeue()\n",
        "q1.print_queue()\n",
        "print(\"Front value in Queue is : \", q1.get_front())\n",
        "print(\"Last value in Queue is : \", q1.get_rare())\n",
        "print(\"Number of Values in Queue are :\", q1.size())"
      ]
    }
  ],
  "metadata": {
    "colab": {
      "provenance": [],
      "include_colab_link": true
    },
    "kernelspec": {
      "display_name": "Python 3",
      "name": "python3"
    },
    "language_info": {
      "name": "python"
    }
  },
  "nbformat": 4,
  "nbformat_minor": 0
}