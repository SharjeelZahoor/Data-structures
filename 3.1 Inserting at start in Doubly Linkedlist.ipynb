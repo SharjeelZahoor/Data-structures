{
  "cells": [
    {
      "cell_type": "markdown",
      "metadata": {
        "id": "view-in-github",
        "colab_type": "text"
      },
      "source": [
        "<a href=\"https://colab.research.google.com/github/SharjeelZahoor/DataStructures/blob/main/3.1%20Inserting%20at%20start%20in%20Doubly%20Linkedlist.ipynb\" target=\"_parent\"><img src=\"https://colab.research.google.com/assets/colab-badge.svg\" alt=\"Open In Colab\"/></a>"
      ]
    },
    {
      "cell_type": "markdown",
      "source": [
        "Inserting Value at start in Doubly linkedlist and print list after adding values"
      ],
      "metadata": {
        "id": "_h-K-24LGKab"
      }
    },
    {
      "cell_type": "code",
      "execution_count": 2,
      "metadata": {
        "colab": {
          "base_uri": "https://localhost:8080/"
        },
        "id": "v40rxncIBGs-",
        "outputId": "98a7b798-dd28-42d6-b353-37d3cddf5069"
      },
      "outputs": [
        {
          "output_type": "execute_result",
          "data": {
            "text/plain": [
              "[50, 40, 30, 20, 10]"
            ]
          },
          "metadata": {},
          "execution_count": 2
        }
      ],
      "source": [
        "class Node:\n",
        "  def __init__(self, data):\n",
        "    self.data = data\n",
        "    self.prev = None\n",
        "    self.next = None\n",
        "\n",
        "class DoublyLinkedList:\n",
        "\n",
        "  def __init__(self):\n",
        "    self.head = None\n",
        "\n",
        "  def insertAtStart(self, data):\n",
        "    new_node = Node(data)\n",
        "    if self.head is None:\n",
        "      self.head = new_node\n",
        "    else:\n",
        "      new_node.next = self.head\n",
        "      self.head.prev = new_node\n",
        "      self.head = new_node\n",
        "\n",
        "\n",
        "  def printList(self):\n",
        "    list2=[]\n",
        "    temp = self.head\n",
        "    while temp:\n",
        "      list2.append(temp.data)\n",
        "      temp = temp.next\n",
        "    return list2\n",
        "\n",
        "l1 = DoublyLinkedList()\n",
        "l1.insertAtStart(10)\n",
        "l1.insertAtStart(20)\n",
        "l1.insertAtStart(30)\n",
        "l1.insertAtStart(40)\n",
        "l1.insertAtStart(50)\n",
        "l1.printList()\n"
      ]
    }
  ],
  "metadata": {
    "colab": {
      "provenance": [],
      "authorship_tag": "ABX9TyNcoa43mjqf2Z/BlDLUcU/V",
      "include_colab_link": true
    },
    "kernelspec": {
      "display_name": "Python 3",
      "name": "python3"
    },
    "language_info": {
      "name": "python"
    }
  },
  "nbformat": 4,
  "nbformat_minor": 0
}
