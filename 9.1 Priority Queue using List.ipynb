{
  "cells": [
    {
      "cell_type": "markdown",
      "metadata": {
        "id": "view-in-github",
        "colab_type": "text"
      },
      "source": [
        "<a href=\"https://colab.research.google.com/github/SharjeelZahoor/DataStructures/blob/main/9.1%20Priority%20Queue%20using%20List.ipynb\" target=\"_parent\"><img src=\"https://colab.research.google.com/assets/colab-badge.svg\" alt=\"Open In Colab\"/></a>"
      ]
    },
    {
      "cell_type": "markdown",
      "source": [
        "**Priority Queue using List**"
      ],
      "metadata": {
        "id": "_h-K-24LGKab"
      }
    },
    {
      "cell_type": "code",
      "execution_count": 4,
      "metadata": {
        "colab": {
          "base_uri": "https://localhost:8080/"
        },
        "id": "v40rxncIBGs-",
        "outputId": "177cbd25-19a9-48d5-bcc2-2295b5fc021b"
      },
      "outputs": [
        {
          "output_type": "stream",
          "name": "stdout",
          "text": [
            "Pushed in Priority Queue :  (10, 1)\n",
            "Pushed in Priority Queue :  (20, 1)\n",
            "Pushed in Priority Queue :  (30, 1)\n",
            "[(30, 1), (20, 1), (10, 1)]\n",
            "Pushed in Priority Queue :  (40, 2)\n",
            "Pushed in Priority Queue :  (50, 2)\n",
            "[(50, 2), (40, 2), (30, 1), (20, 1), (10, 1)]\n",
            "Pushed in Priority Queue :  (60, 1)\n",
            "[(50, 2), (40, 2), (60, 1), (30, 1), (20, 1), (10, 1)]\n",
            "Pushed in Priority Queue :  (80, 3)\n",
            "Pushed in Priority Queue :  (100, 2)\n",
            "[(80, 3), (100, 2), (50, 2), (40, 2), (60, 1), (30, 1), (20, 1), (10, 1)]\n",
            "Value removed from Queue is :  (10, 1)\n",
            "[(80, 3), (100, 2), (50, 2), (40, 2), (60, 1), (30, 1), (20, 1)]\n",
            "Value removed from Queue is :  (20, 1)\n",
            "[(80, 3), (100, 2), (50, 2), (40, 2), (60, 1), (30, 1)]\n",
            "Front value in Queue is :  (30, 1)\n",
            "Last value in Queue is :  (80, 3)\n",
            "Number of Values in Queue are : 6\n"
          ]
        }
      ],
      "source": [
        "class priorityQueue:\n",
        "  def __init__(self):\n",
        "    self.lst = []\n",
        "  def is_empty(self):\n",
        "    return len(self.lst) == 0\n",
        "\n",
        "  def enqueue(self, data, priority):\n",
        "    full_node = (data, priority)\n",
        "    print(\"Pushed in Priority Queue : \", full_node)\n",
        "    if not self.is_empty():\n",
        "      for i in range(len(self.lst)):\n",
        "        if self.lst[i][1] <= priority:\n",
        "          self.lst.insert(i, full_node)\n",
        "          break\n",
        "      else:\n",
        "        self.lst.append(full_node)\n",
        "    else:\n",
        "      self.lst.append(full_node)\n",
        "\n",
        "  def dequeue(self):\n",
        "    if not self.is_empty():\n",
        "      print(\"Value removed from Queue is : \", self.lst[-1])\n",
        "      self.lst.pop()\n",
        "    else:\n",
        "      raise Exception(\"Queue is empty\")\n",
        "  def get_front(self):\n",
        "    if not self.is_empty():\n",
        "      return self.lst[-1]\n",
        "    else:\n",
        "      raise Exception(\"Queue is empty\")\n",
        "  def get_rare(self):\n",
        "    if not self.is_empty():\n",
        "      return self.lst[0]\n",
        "    else:\n",
        "      raise Exception(\"Queue is empty\")\n",
        "\n",
        "  def print_queue(self):\n",
        "    print(self.lst)\n",
        "  def size(self):\n",
        "    return len(self.lst)\n",
        "q1 = priorityQueue()\n",
        "q1.enqueue(10,1)\n",
        "q1.enqueue(20,1)\n",
        "q1.enqueue(30,1)\n",
        "q1.print_queue()\n",
        "q1.enqueue(40,2)\n",
        "q1.enqueue(50,2)\n",
        "q1.print_queue()\n",
        "q1.enqueue(60,1)\n",
        "q1.print_queue()\n",
        "q1.enqueue(80,3)\n",
        "q1.enqueue(100,2)\n",
        "q1.print_queue()\n",
        "q1.dequeue()\n",
        "q1.print_queue()\n",
        "\n",
        "q1.dequeue()\n",
        "q1.print_queue()\n",
        "print(\"Front value in Queue is : \", q1.get_front())\n",
        "print(\"Last value in Queue is : \", q1.get_rare())\n",
        "print(\"Number of Values in Queue are :\", q1.size())"
      ]
    }
  ],
  "metadata": {
    "colab": {
      "provenance": [],
      "include_colab_link": true
    },
    "kernelspec": {
      "display_name": "Python 3",
      "name": "python3"
    },
    "language_info": {
      "name": "python"
    }
  },
  "nbformat": 4,
  "nbformat_minor": 0
}